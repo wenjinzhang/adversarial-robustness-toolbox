{
 "cells": [
  {
   "cell_type": "markdown",
   "id": "14fe1a64",
   "metadata": {},
   "source": [
    "# Feature Adversaries Attack in TensorFlow v2\n",
    "\n",
    "Before diving into the attack, let's first prepare a classification model. We utilize a script from the `examples` folders."
   ]
  },
  {
   "cell_type": "code",
   "execution_count": 1,
   "id": "33edf2bc",
   "metadata": {},
   "outputs": [
    {
     "name": "stderr",
     "output_type": "stream",
     "text": [
      "2022-07-29 18:03:53.344280: I tensorflow/stream_executor/platform/default/dso_loader.cc:49] Successfully opened dynamic library libcudart.so.11.0\n"
     ]
    }
   ],
   "source": [
    "import tensorflow as tf\n",
    "\n",
    "import warnings\n",
    "warnings.filterwarnings('ignore')\n",
    "\n",
    "tf.compat.v1.disable_eager_execution()\n",
    "from tensorflow.keras.models import Sequential\n",
    "from tensorflow.keras.layers import Dense, Flatten, Conv2D, MaxPooling2D\n",
    "from tensorflow.keras.losses import categorical_crossentropy\n",
    "from tensorflow.keras.optimizers import Adam\n",
    "import numpy as np\n",
    "\n",
    "from art.attacks.evasion import FastGradientMethod\n",
    "from art.estimators.classification import KerasClassifier\n",
    "from art.utils import load_mnist\n",
    "\n",
    "# Step 1: Load the MNIST dataset\n",
    "(x_train, y_train), (x_test, y_test), min_pixel_value, max_pixel_value = load_mnist()\n",
    "\n",
    "# Step 2: Create the model\n",
    "model = Sequential()\n",
    "model.add(Conv2D(filters=4, kernel_size=(5, 5), strides=1, activation=\"relu\", input_shape=(28, 28, 1)))\n",
    "model.add(MaxPooling2D(pool_size=(2, 2)))\n",
    "model.add(Conv2D(filters=10, kernel_size=(5, 5), strides=1, activation=\"relu\", input_shape=(23, 23, 4)))\n",
    "model.add(MaxPooling2D(pool_size=(2, 2)))\n",
    "model.add(Flatten())\n",
    "model.add(Dense(100, activation=\"relu\"))\n",
    "model.add(Dense(10, activation=\"softmax\"))\n",
    "model.compile(loss=categorical_crossentropy, optimizer=Adam(learning_rate=0.01), metrics=[\"accuracy\"])"
   ]
  },
  {
   "cell_type": "code",
   "execution_count": 2,
   "id": "9fc3924c",
   "metadata": {},
   "outputs": [
    {
     "name": "stdout",
     "output_type": "stream",
     "text": [
      "Train on 60000 samples\n",
      "Epoch 1/3\n",
      "   64/60000 [..............................] - ETA: 1:21 - loss: 2.3047 - accuracy: 0.1094"
     ]
    },
    {
     "name": "stderr",
     "output_type": "stream",
     "text": [
      "2022-07-29 18:04:10.187352: I tensorflow/compiler/jit/xla_cpu_device.cc:41] Not creating XLA devices, tf_xla_enable_xla_devices not set\n",
      "2022-07-29 18:04:10.188228: I tensorflow/stream_executor/platform/default/dso_loader.cc:49] Successfully opened dynamic library libcuda.so.1\n",
      "2022-07-29 18:04:10.259477: I tensorflow/core/common_runtime/gpu/gpu_device.cc:1720] Found device 0 with properties: \n",
      "pciBusID: 0000:d5:00.0 name: Quadro P4000 computeCapability: 6.1\n",
      "coreClock: 1.48GHz coreCount: 14 deviceMemorySize: 7.91GiB deviceMemoryBandwidth: 226.62GiB/s\n",
      "2022-07-29 18:04:10.259521: I tensorflow/stream_executor/platform/default/dso_loader.cc:49] Successfully opened dynamic library libcudart.so.11.0\n",
      "2022-07-29 18:04:10.264354: I tensorflow/stream_executor/platform/default/dso_loader.cc:49] Successfully opened dynamic library libcublas.so.11\n",
      "2022-07-29 18:04:10.264436: I tensorflow/stream_executor/platform/default/dso_loader.cc:49] Successfully opened dynamic library libcublasLt.so.11\n",
      "2022-07-29 18:04:10.265629: I tensorflow/stream_executor/platform/default/dso_loader.cc:49] Successfully opened dynamic library libcufft.so.10\n",
      "2022-07-29 18:04:10.265951: I tensorflow/stream_executor/platform/default/dso_loader.cc:49] Successfully opened dynamic library libcurand.so.10\n",
      "2022-07-29 18:04:10.266052: W tensorflow/stream_executor/platform/default/dso_loader.cc:60] Could not load dynamic library 'libcusolver.so.10'; dlerror: libcusolver.so.10: cannot open shared object file: No such file or directory; LD_LIBRARY_PATH: /usr/local/cuda-10.0/lib64\n",
      "2022-07-29 18:04:10.266995: I tensorflow/stream_executor/platform/default/dso_loader.cc:49] Successfully opened dynamic library libcusparse.so.11\n",
      "2022-07-29 18:04:10.267172: I tensorflow/stream_executor/platform/default/dso_loader.cc:49] Successfully opened dynamic library libcudnn.so.8\n",
      "2022-07-29 18:04:10.267184: W tensorflow/core/common_runtime/gpu/gpu_device.cc:1757] Cannot dlopen some GPU libraries. Please make sure the missing libraries mentioned above are installed properly if you would like to use GPU. Follow the guide at https://www.tensorflow.org/install/gpu for how to download and setup the required libraries for your platform.\n",
      "Skipping registering GPU devices...\n",
      "2022-07-29 18:04:10.267686: I tensorflow/core/platform/cpu_feature_guard.cc:142] This TensorFlow binary is optimized with oneAPI Deep Neural Network Library (oneDNN) to use the following CPU instructions in performance-critical operations:  AVX512F\n",
      "To enable them in other operations, rebuild TensorFlow with the appropriate compiler flags.\n",
      "2022-07-29 18:04:10.270023: I tensorflow/compiler/jit/xla_gpu_device.cc:99] Not creating XLA devices, tf_xla_enable_xla_devices not set\n",
      "2022-07-29 18:04:10.270098: I tensorflow/core/common_runtime/gpu/gpu_device.cc:1261] Device interconnect StreamExecutor with strength 1 edge matrix:\n",
      "2022-07-29 18:04:10.270116: I tensorflow/core/common_runtime/gpu/gpu_device.cc:1267]      \n",
      "2022-07-29 18:04:10.301312: I tensorflow/compiler/mlir/mlir_graph_optimization_pass.cc:196] None of the MLIR optimization passes are enabled (registered 0 passes)\n",
      "2022-07-29 18:04:10.305801: I tensorflow/core/platform/profile_utils/cpu_utils.cc:112] CPU Frequency: 2100000000 Hz\n"
     ]
    },
    {
     "name": "stdout",
     "output_type": "stream",
     "text": [
      "60000/60000 [==============================] - 11s 188us/sample - loss: 0.1668 - accuracy: 0.9489\n",
      "Epoch 2/3\n",
      "60000/60000 [==============================] - 11s 185us/sample - loss: 0.0848 - accuracy: 0.9740\n",
      "Epoch 3/3\n",
      "60000/60000 [==============================] - 11s 185us/sample - loss: 0.0756 - accuracy: 0.9781\n",
      "Accuracy on benign test examples: 96.5%\n"
     ]
    }
   ],
   "source": [
    "# Step 3: Create the ART classifier\n",
    "classifier = KerasClassifier(model=model, clip_values=(min_pixel_value, max_pixel_value), use_logits=False)\n",
    "\n",
    "# Step 4: Train the ART classifier\n",
    "classifier.fit(x_train, y_train, batch_size=64, nb_epochs=3)\n",
    "\n",
    "# Step 5: Evaluate the ART classifier on benign test examples\n",
    "predictions = classifier.predict(x_test)\n",
    "accuracy = np.sum(np.argmax(predictions, axis=1) == np.argmax(y_test, axis=1)) / len(y_test)\n",
    "print(\"Accuracy on benign test examples: {}%\".format(accuracy * 100))"
   ]
  },
  {
   "cell_type": "code",
   "execution_count": 3,
   "id": "07d0ea9f",
   "metadata": {},
   "outputs": [
    {
     "name": "stdout",
     "output_type": "stream",
     "text": [
      "[[0. 0. 1. 0. 0. 0. 0. 0. 0. 0.]\n",
      " [0. 0. 1. 0. 0. 0. 0. 0. 0. 0.]]\n"
     ]
    }
   ],
   "source": [
    "target = 2\n",
    "y_test_adv_tar = np.zeros(y_test.shape)\n",
    "for i in range(y_test.shape[0]):\n",
    "    y_test_adv_tar[i, target] = 1.0\n",
    "\n",
    "print(y_test_adv_tar[:2])"
   ]
  },
  {
   "cell_type": "code",
   "execution_count": 15,
   "id": "619ac837",
   "metadata": {},
   "outputs": [],
   "source": [
    "from art.attacks.evasion import TargetedUniversalPerturbation\n",
    "\n",
    "adv_crafter = TargetedUniversalPerturbation(\n",
    "    classifier,\n",
    "    attacker='fgsm',\n",
    "    delta=0.2,\n",
    "    attacker_params={'eps':0.5, 'verbose': True},\n",
    "    max_iter=5,\n",
    "    eps=5.5,\n",
    "    norm=1.2)\n",
    "\n",
    "x_adv = adv_crafter.generate(x=x_test, y=y_test_adv_tar)\n",
    "\n",
    "# attack = FastGradientMethod(estimator=classifier, eps=0.2)\n",
    "# x_test_adv = attack.generate(x=x_test)"
   ]
  },
  {
   "cell_type": "code",
   "execution_count": 10,
   "id": "7405187a",
   "metadata": {},
   "outputs": [
    {
     "name": "stdout",
     "output_type": "stream",
     "text": [
      "(1, 28, 28, 1)\n",
      "(10000, 28, 28, 1)\n",
      "targeted_success_rate_test: 6.9 %\n"
     ]
    }
   ],
   "source": [
    "noise = adv_crafter.noise\n",
    "print(np.shape(noise))\n",
    "print(np.shape(x_test))\n",
    "rescaled_noise = noise.copy()\n",
    "x_test_adv = x_test + rescaled_noise\n",
    "preds_test_adv = np.argmax(classifier.predict(x_test_adv), axis=1) \n",
    "targeted_success_rate_test = np.sum(preds_test_adv == target) / len(x_test) \n",
    "print('targeted_success_rate_test: {:.1f} %'.format(targeted_success_rate_test*100))\n"
   ]
  },
  {
   "cell_type": "code",
   "execution_count": 11,
   "id": "8b968f78",
   "metadata": {},
   "outputs": [
    {
     "data": {
      "text/plain": [
       "<matplotlib.image.AxesImage at 0x7f74c1e1ab20>"
      ]
     },
     "execution_count": 11,
     "metadata": {},
     "output_type": "execute_result"
    },
    {
     "data": {
      "image/png": "[encoded data removed]",
      "text/plain": [
       "<Figure size 432x288 with 1 Axes>"
      ]
     },
     "metadata": {
      "needs_background": "light"
     },
     "output_type": "display_data"
    }
   ],
   "source": [
    "import matplotlib.pyplot as plt\n",
    "plt.imshow(noise[0,:])"
   ]
  },
  {
   "cell_type": "code",
   "execution_count": 12,
   "id": "b6eb7e04",
   "metadata": {},
   "outputs": [
    {
     "name": "stdout",
     "output_type": "stream",
     "text": [
      "Accuracy on adversarial test examples: 53.790000000000006%\n"
     ]
    }
   ],
   "source": [
    "# Step 7: Evaluate the ART classifier on adversarial test examples\n",
    "predictions = classifier.predict(x_adv)\n",
    "accuracy = np.sum(np.argmax(predictions, axis=1) == np.argmax(y_test, axis=1)) / len(y_test)\n",
    "print(\"Accuracy on adversarial test examples: {}%\".format(accuracy * 100))"
   ]
  },
  {
   "cell_type": "code",
   "execution_count": 13,
   "id": "3945bd56",
   "metadata": {},
   "outputs": [
    {
     "data": {
      "image/png": "[encoded data removed]",
      "text/plain": [
       "<Figure size 640x640 with 9 Axes>"
      ]
     },
     "metadata": {
      "needs_background": "light"
     },
     "output_type": "display_data"
    }
   ],
   "source": [
    "import matplotlib.pyplot as plt\n",
    "\n",
    "plt.figure(figsize=(8, 8), dpi=80)\n",
    "\n",
    "for i in range(1, 10):\n",
    "    plt.subplot(3, 3, i)\n",
    "    plt.imshow(x_test_adv[i])\n",
    "    plt.title(str(np.argmax(predictions[i]))+\", \"+ str(np.argmax(y_test[i])))"
   ]
  },
  {
   "cell_type": "code",
   "execution_count": null,
   "id": "17eaccde",
   "metadata": {},
   "outputs": [],
   "source": [
    "from art.attacks.evasion import TargetedUniversalPerturbation\n",
    "adv_crafter = TargetedUniversalPerturbation(\n",
    "    classifier,\n",
    "    attacker='fgsm',\n",
    "    delta=0.2,\n",
    "    attacker_params={'targeted':True, 'eps':0.6},\n",
    "    max_iter=10,\n",
    "    eps=5.5,\n",
    "    norm=2)"
   ]
  },
  {
   "cell_type": "code",
   "execution_count": null,
   "id": "904575a1",
   "metadata": {},
   "outputs": [],
   "source": [
    "# selecting 1000 images for each class in 10 classes \n",
    "x_part_train = x_train[:100*10]\n",
    "y_part_train = y_train[:100*10]\n",
    "\n",
    "# set target label\n",
    "target = 1\n",
    "y_train_adv_tar = np.zeros(y_part_train.shape)\n",
    "for i in range(y_part_train.shape[0]):\n",
    "    y_train_adv_tar[i, target] = 1.0"
   ]
  },
  {
   "cell_type": "code",
   "execution_count": null,
   "id": "956b4801",
   "metadata": {},
   "outputs": [],
   "source": [
    "x_adv = adv_crafter.generate(x_part_train, y=y_train_adv_tar)"
   ]
  },
  {
   "cell_type": "code",
   "execution_count": null,
   "id": "086d41d6",
   "metadata": {},
   "outputs": [],
   "source": [
    "noise = adv_crafter.noise[0,:]\n",
    "x_train_adv = x_train + noise\n",
    "x_test_adv = x_test + noise\n",
    "\n",
    "preds_train_adv = np.argmax(classifier.predict(x_train_adv), axis=1)\n",
    "preds_test_adv = np.argmax(classifier.predict(x_test_adv), axis=1) \n",
    "targeted_success_rate_train = np.sum(preds_train_adv == target) / len(x_train)\n",
    "targeted_success_rate_test = np.sum(preds_test_adv == target) / len(x_test) \n",
    "print('targeted_success_rate_train: {:.1f} %'.format(targeted_success_rate_train*100))\n",
    "print('targeted_success_rate_test: {:.1f} %'.format(targeted_success_rate_test*100))"
   ]
  }
 ],
 "metadata": {
  "kernelspec": {
   "display_name": "UAP",
   "language": "python",
   "name": "uap"
  },
  "language_info": {
   "codemirror_mode": {
    "name": "ipython",
    "version": 3
   },
   "file_extension": ".py",
   "mimetype": "text/x-python",
   "name": "python",
   "nbconvert_exporter": "python",
   "pygments_lexer": "ipython3",
   "version": "3.8.13"
  },
  "vscode": {
   "interpreter": {
    "hash": "7560b00439c9a18b07946e07b04233d01c8b203c21d1b1ada294496408168701"
   }
  }
 },
 "nbformat": 4,
 "nbformat_minor": 5
}
