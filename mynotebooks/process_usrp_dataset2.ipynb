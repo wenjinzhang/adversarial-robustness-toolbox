{
 "cells": [
  {
   "cell_type": "code",
   "execution_count": 1,
   "metadata": {},
   "outputs": [],
   "source": [
    "import numpy as np\n",
    "import os\n",
    "import tensorflow as tf\n",
    "tf.compat.v1.disable_eager_execution()\n",
    "from scipy.io import loadmat"
   ]
  },
  {
   "cell_type": "code",
   "execution_count": 2,
   "metadata": {},
   "outputs": [],
   "source": [
    "class_dict = {\n",
    "    'raise_arm': 0,\n",
    "    'run': 1,\n",
    "    'bow': 2,\n",
    "    'walk': 3,\n",
    "}"
   ]
  },
  {
   "cell_type": "code",
   "execution_count": 3,
   "metadata": {},
   "outputs": [],
   "source": [
    "win_len=200\n",
    "\n",
    "def generate_dataset(path, step=100, win_len=win_len, dirty = False):\n",
    "\n",
    "    folders = [p for p in os.listdir(path) if p != \".DS_Store\"]\n",
    "\n",
    "    # print(\"detect {} class:{}\".format(len(folders), folders))\n",
    "    X = []\n",
    "    Y = []\n",
    "    num_classes= len(folders)\n",
    "\n",
    "    for folder in folders:\n",
    "        folder_path = os.path.join(path, folder)\n",
    "        filenames = [f for f in os.listdir(folder_path) if f.endswith(\".mat\")]\n",
    "        for filename in filenames:\n",
    "            # load data\n",
    "            file_path = os.path.join(folder_path, filename)\n",
    "            print(file_path)\n",
    "            # print(file_path)\n",
    "            csi_data= loadmat(file_path)\n",
    "            csi_array = csi_data['csi']\n",
    "            csi_array = np.absolute(csi_array)\n",
    "\n",
    "            # screen the data with a window\n",
    "            index = 1000\n",
    "            while index + win_len <= csi_array.shape[0]:\n",
    "                cur_seg = csi_array[index : index + win_len]\n",
    "                index += step\n",
    "                if np.any(np.isnan(cur_seg)):\n",
    "                    col_mean = np.nanmean(cur_seg, axis=0)\n",
    "                    # print(np.shape(cur_seg), np.shape(col_mean))\n",
    "                    inds = np.where(np.isnan(cur_seg))\n",
    "                    # print(inds)\n",
    "                    cur_seg[inds] = np.take(col_mean, inds[1])\n",
    "                    continue\n",
    "                \n",
    "                # determine the activity by using moving variance.\n",
    "                var = np.var(np.abs(cur_seg[:step, 1])) \n",
    "                # print('var:', var)\n",
    "                high_limit = 2.5\n",
    "                if dirty:\n",
    "                    high_limit = 100 \n",
    "\n",
    "                if var > 0.6 and var < high_limit:\n",
    "                    X.append(cur_seg)\n",
    "                    Y.append(class_dict[folder]);\n",
    "            break\n",
    "\n",
    "    X = np.array(X)\n",
    "    Y = np.array(Y)\n",
    "    assert not np.any(np.isnan(X))\n",
    "    print('0', (Y == 0).sum())\n",
    "    print('1', (Y == 1).sum())\n",
    "    print('2', (Y == 2).sum())\n",
    "    print('3', (Y == 3).sum())\n",
    "    Y = tf.keras.utils.to_categorical(Y, num_classes=num_classes)\n",
    "    return X, Y, num_classes"
   ]
  },
  {
   "cell_type": "code",
   "execution_count": 4,
   "metadata": {},
   "outputs": [
    {
     "name": "stdout",
     "output_type": "stream",
     "text": [
      "./usrp_dataset2/training/walk/1.mat\n",
      "./usrp_dataset2/training/bow/1.mat\n",
      "./usrp_dataset2/training/run/1.mat\n",
      "./usrp_dataset2/training/raise_arm/1.mat\n",
      "0 51\n",
      "1 74\n",
      "2 70\n",
      "3 46\n",
      "./usrp_dataset2/testing/walk/1.mat\n",
      "./usrp_dataset2/testing/bow/1.mat\n",
      "./usrp_dataset2/testing/run/1.mat\n",
      "./usrp_dataset2/testing/raise_arm/1.mat\n",
      "0 16\n",
      "1 28\n",
      "2 31\n",
      "3 11\n",
      "./usrp_dataset2/dirty/walk/1.mat\n",
      "./usrp_dataset2/dirty/bow/1.mat\n",
      "./usrp_dataset2/dirty/run/1.mat\n",
      "./usrp_dataset2/dirty/raise_arm/1.mat\n",
      "0 41\n",
      "1 32\n",
      "2 36\n",
      "3 41\n"
     ]
    }
   ],
   "source": [
    "X_train, Y_train, num_classes = generate_dataset('./usrp_dataset2/training/')\n",
    "X_test, Y_test, num_classes = generate_dataset('./usrp_dataset2/testing/')\n",
    "X_dirty, Y_dirty, num_classes = generate_dataset('./usrp_dataset2/dirty/', dirty = True)\n"
   ]
  },
  {
   "cell_type": "code",
   "execution_count": 5,
   "metadata": {},
   "outputs": [
    {
     "name": "stdout",
     "output_type": "stream",
     "text": [
      "(241, 200, 52) (241, 4)\n",
      "(86, 200, 52) (86, 4)\n",
      "(327, 200, 52) (327, 4)\n",
      "float64\n"
     ]
    }
   ],
   "source": [
    "print(np.shape(X_train), np.shape(Y_train))\n",
    "print(np.shape(X_test), np.shape(Y_test))\n",
    "X = np.concatenate((X_train, X_test), axis=0)\n",
    "Y = np.concatenate((Y_train, Y_test), axis=0)\n",
    "print(np.shape(X), np.shape(Y))\n",
    "print(X_train.dtype)\n"
   ]
  },
  {
   "cell_type": "code",
   "execution_count": 6,
   "metadata": {},
   "outputs": [],
   "source": [
    "def train_valid_split(X, Y, train_portion=0.7, seed=379):\n",
    "    np.random.seed(seed=seed)\n",
    "    num_samples = np.shape(X)[0]\n",
    "    index = np.random.permutation([i for i in range(num_samples)])\n",
    "    split_len = int(train_portion * num_samples)\n",
    "    X_train = X[index[:split_len], ...]\n",
    "    Y_train = Y[index[:split_len], ...]\n",
    "    X_valid = X[index[split_len:], ...]\n",
    "    Y_valid = Y[index[split_len:], ...]\n",
    "    return (X_train, Y_train), (X_valid, Y_valid)"
   ]
  },
  {
   "cell_type": "code",
   "execution_count": 34,
   "metadata": {},
   "outputs": [
    {
     "name": "stdout",
     "output_type": "stream",
     "text": [
      "(327, 200, 52)\n",
      "(200, 52)\n",
      "(200, 52)\n",
      "[[-0.97822813 -1.13960941 -1.2942718  ...  1.19662289  1.15904804\n",
      "   1.52106823]\n",
      " [-0.24221536 -0.32105946 -0.85973994 ...  0.85142945  1.92585616\n",
      "   1.19252304]\n",
      " [-0.13974496  0.41991582  0.18676989 ...  0.23781713  0.83273175\n",
      "   1.05045908]\n",
      " ...\n",
      " [ 1.37449265  0.44960378  0.76970924 ...  0.78068432  0.22966423\n",
      "   0.82040528]\n",
      " [ 0.7372733   1.37774396  0.89979768 ...  0.1790371  -0.24433481\n",
      "   0.1758007 ]\n",
      " [ 0.80852715  1.20367862  1.49109972 ... -1.38182984 -0.46365855\n",
      "  -0.99012239]]\n"
     ]
    }
   ],
   "source": [
    "# normalization\n",
    "print(np.shape(X))\n",
    "mean = np.mean(X, axis=0)\n",
    "print(np.shape(mean))\n",
    "std = np.std(X, axis=0)\n",
    "print(np.shape(std))\n",
    "\n",
    "norm_X = (X - mean)/std\n",
    "norm_X_dirty= (X_dirty - mean)/std\n",
    "\n",
    "print(norm_X[0])"
   ]
  },
  {
   "cell_type": "code",
   "execution_count": 8,
   "metadata": {},
   "outputs": [
    {
     "name": "stdout",
     "output_type": "stream",
     "text": [
      "(228, 200, 52) (228, 4)\n",
      "(99, 200, 52) (99, 4)\n"
     ]
    }
   ],
   "source": [
    "(X_train, Y_train), (X_valid, Y_valid) = train_valid_split(X, Y)\n",
    "\n",
    "print(np.shape(X_train), np.shape(Y_train))\n",
    "print(np.shape(X_valid), np.shape(Y_valid))"
   ]
  },
  {
   "cell_type": "code",
   "execution_count": 36,
   "metadata": {},
   "outputs": [],
   "source": [
    "import pickle\n",
    "f = open('./dataset/nonorm_datset2.pickle', 'wb')\n",
    "pickle.dump((X_train, Y_train ,X_valid, Y_valid), f)\n",
    "f.close()"
   ]
  },
  {
   "cell_type": "code",
   "execution_count": 37,
   "metadata": {},
   "outputs": [
    {
     "name": "stdout",
     "output_type": "stream",
     "text": [
      "Model: \"functional_3\"\n",
      "_________________________________________________________________\n",
      "Layer (type)                 Output Shape              Param #   \n",
      "=================================================================\n",
      "input_2 (InputLayer)         [(None, 200, 52)]         0         \n",
      "_________________________________________________________________\n",
      "bidirectional_1 (Bidirection (None, 200, 400)          404800    \n",
      "_________________________________________________________________\n",
      "atten_layer_1 (AttenLayer)   (None, 400)               160800    \n",
      "_________________________________________________________________\n",
      "dense_1 (Dense)              (None, 4)                 1604      \n",
      "=================================================================\n",
      "Total params: 567,204\n",
      "Trainable params: 567,204\n",
      "Non-trainable params: 0\n",
      "_________________________________________________________________\n"
     ]
    }
   ],
   "source": [
    "import csimodel\n",
    "cfg = csimodel.CSIModelConfig(win_len=win_len, step=200, thrshd=0.6, downsample=1)\n",
    "model = cfg.build_ourmodel(label=4, n_unit_lstm=200, n_unit_atten=400, feature=52)\n",
    "model.summary()\n"
   ]
  },
  {
   "cell_type": "code",
   "execution_count": 38,
   "metadata": {},
   "outputs": [],
   "source": [
    "# train\n",
    "model.compile(\n",
    "    optimizer=tf.keras.optimizers.Adam(learning_rate=1e-4),\n",
    "    loss='categorical_crossentropy', \n",
    "    metrics=['accuracy'])"
   ]
  },
  {
   "cell_type": "code",
   "execution_count": 40,
   "metadata": {},
   "outputs": [
    {
     "name": "stdout",
     "output_type": "stream",
     "text": [
      "Train on 228 samples, validate on 99 samples\n",
      "Epoch 1/30\n",
      "228/228 [==============================] - 1s 5ms/sample - loss: 0.2058 - accuracy: 0.9518 - val_loss: 0.1944 - val_accuracy: 0.9495\n",
      "Epoch 2/30\n",
      "228/228 [==============================] - 1s 6ms/sample - loss: 0.1944 - accuracy: 0.9518 - val_loss: 0.1848 - val_accuracy: 0.9495\n",
      "Epoch 3/30\n",
      "228/228 [==============================] - 1s 5ms/sample - loss: 0.1838 - accuracy: 0.9518 - val_loss: 0.1762 - val_accuracy: 0.9495\n",
      "Epoch 4/30\n",
      "228/228 [==============================] - 1s 5ms/sample - loss: 0.1745 - accuracy: 0.9518 - val_loss: 0.1684 - val_accuracy: 0.9495\n",
      "Epoch 5/30\n",
      "228/228 [==============================] - 1s 5ms/sample - loss: 0.1661 - accuracy: 0.9518 - val_loss: 0.1610 - val_accuracy: 0.9495\n",
      "Epoch 6/30\n",
      "228/228 [==============================] - 1s 5ms/sample - loss: 0.1581 - accuracy: 0.9518 - val_loss: 0.1541 - val_accuracy: 0.9495\n",
      "Epoch 7/30\n",
      "228/228 [==============================] - 1s 6ms/sample - loss: 0.1508 - accuracy: 0.9518 - val_loss: 0.1476 - val_accuracy: 0.9394\n",
      "Epoch 8/30\n",
      "228/228 [==============================] - 1s 5ms/sample - loss: 0.1439 - accuracy: 0.9518 - val_loss: 0.1414 - val_accuracy: 0.9394\n",
      "Epoch 9/30\n",
      "228/228 [==============================] - 1s 5ms/sample - loss: 0.1371 - accuracy: 0.9518 - val_loss: 0.1353 - val_accuracy: 0.9394\n",
      "Epoch 10/30\n",
      "228/228 [==============================] - 1s 5ms/sample - loss: 0.1305 - accuracy: 0.9561 - val_loss: 0.1293 - val_accuracy: 0.9394\n",
      "Epoch 11/30\n",
      "228/228 [==============================] - 1s 5ms/sample - loss: 0.1240 - accuracy: 0.9561 - val_loss: 0.1233 - val_accuracy: 0.9394\n",
      "Epoch 12/30\n",
      "228/228 [==============================] - 1s 6ms/sample - loss: 0.1173 - accuracy: 0.9561 - val_loss: 0.1170 - val_accuracy: 0.9394\n",
      "Epoch 13/30\n",
      "228/228 [==============================] - 1s 5ms/sample - loss: 0.1107 - accuracy: 0.9605 - val_loss: 0.1106 - val_accuracy: 0.9394\n",
      "Epoch 14/30\n",
      "228/228 [==============================] - 1s 6ms/sample - loss: 0.1049 - accuracy: 0.9561 - val_loss: 0.1040 - val_accuracy: 0.9596\n",
      "Epoch 15/30\n",
      "228/228 [==============================] - 1s 6ms/sample - loss: 0.0977 - accuracy: 0.9561 - val_loss: 0.0977 - val_accuracy: 0.9596\n",
      "Epoch 16/30\n",
      "228/228 [==============================] - 1s 6ms/sample - loss: 0.0909 - accuracy: 0.9649 - val_loss: 0.0917 - val_accuracy: 0.9596\n",
      "Epoch 17/30\n",
      "228/228 [==============================] - 1s 5ms/sample - loss: 0.0845 - accuracy: 0.9649 - val_loss: 0.0855 - val_accuracy: 0.9596\n",
      "Epoch 18/30\n",
      "228/228 [==============================] - 1s 5ms/sample - loss: 0.0781 - accuracy: 0.9693 - val_loss: 0.0787 - val_accuracy: 0.9596\n",
      "Epoch 19/30\n",
      "228/228 [==============================] - 1s 6ms/sample - loss: 0.0716 - accuracy: 0.9781 - val_loss: 0.0715 - val_accuracy: 0.9697\n",
      "Epoch 20/30\n",
      "228/228 [==============================] - 1s 6ms/sample - loss: 0.0644 - accuracy: 0.9781 - val_loss: 0.0630 - val_accuracy: 0.9798\n",
      "Epoch 21/30\n",
      "228/228 [==============================] - 2s 8ms/sample - loss: 0.0598 - accuracy: 0.9825 - val_loss: 0.0566 - val_accuracy: 0.9798\n",
      "Epoch 22/30\n",
      "228/228 [==============================] - 1s 6ms/sample - loss: 0.0532 - accuracy: 0.9868 - val_loss: 0.0530 - val_accuracy: 0.9899\n",
      "Epoch 23/30\n",
      "228/228 [==============================] - 1s 6ms/sample - loss: 0.0539 - accuracy: 0.9825 - val_loss: 0.0458 - val_accuracy: 1.0000\n",
      "Epoch 24/30\n",
      "228/228 [==============================] - 2s 7ms/sample - loss: 0.0428 - accuracy: 0.9912 - val_loss: 0.0427 - val_accuracy: 0.9899\n",
      "Epoch 25/30\n",
      "228/228 [==============================] - 2s 7ms/sample - loss: 0.0438 - accuracy: 0.9912 - val_loss: 0.0388 - val_accuracy: 0.9899\n",
      "Epoch 26/30\n",
      "228/228 [==============================] - 2s 7ms/sample - loss: 0.0392 - accuracy: 0.9956 - val_loss: 0.0342 - val_accuracy: 1.0000\n",
      "Epoch 27/30\n",
      "228/228 [==============================] - 1s 6ms/sample - loss: 0.0336 - accuracy: 1.0000 - val_loss: 0.0344 - val_accuracy: 1.0000\n",
      "Epoch 28/30\n",
      "228/228 [==============================] - 1s 6ms/sample - loss: 0.0334 - accuracy: 0.9912 - val_loss: 0.0307 - val_accuracy: 1.0000\n",
      "Epoch 29/30\n",
      "228/228 [==============================] - 2s 7ms/sample - loss: 0.0300 - accuracy: 0.9912 - val_loss: 0.0264 - val_accuracy: 1.0000\n",
      "Epoch 30/30\n",
      "228/228 [==============================] - 1s 6ms/sample - loss: 0.0265 - accuracy: 1.0000 - val_loss: 0.0256 - val_accuracy: 1.0000\n"
     ]
    }
   ],
   "source": [
    "history = model.fit(\n",
    "    X_train,\n",
    "    Y_train,\n",
    "    batch_size=128, epochs=30,\n",
    "    validation_data=(X_valid, Y_valid),\n",
    "    callbacks=[\n",
    "        tf.keras.callbacks.ModelCheckpoint('best_atten_our.hdf5',\n",
    "                                            monitor='val_accuracy',\n",
    "                                            save_best_only=True,\n",
    "                                            save_weights_only=False)\n",
    "        ])"
   ]
  },
  {
   "cell_type": "code",
   "execution_count": 42,
   "metadata": {},
   "outputs": [
    {
     "name": "stdout",
     "output_type": "stream",
     "text": [
      "INFO:tensorflow:Assets written to: CSI_recognition.h/assets\n"
     ]
    }
   ],
   "source": [
    "model.save('CSI_recognition.h')"
   ]
  },
  {
   "cell_type": "code",
   "execution_count": 18,
   "metadata": {},
   "outputs": [],
   "source": [
    "import numpy as np\n",
    "\n",
    "def plot_confusion_matrix(cm,\n",
    "                          target_names,\n",
    "                          title='Confusion matrix',\n",
    "                          cmap=None,\n",
    "                          normalize=False):\n",
    "    \"\"\"\n",
    "    given a sklearn confusion matrix (cm), make a nice plot\n",
    "\n",
    "    Arguments\n",
    "    ---------\n",
    "    cm:           confusion matrix from sklearn.metrics.confusion_matrix\n",
    "\n",
    "    target_names: given classification classes such as [0, 1, 2]\n",
    "                  the class names, for example: ['high', 'medium', 'low']\n",
    "\n",
    "    title:        the text to display at the top of the matrix\n",
    "\n",
    "    cmap:         the gradient of the values displayed from matplotlib.pyplot.cm\n",
    "                  see http://matplotlib.org/examples/color/colormaps_reference.html\n",
    "                  plt.get_cmap('jet') or plt.cm.Blues\n",
    "\n",
    "    normalize:    If False, plot the raw numbers\n",
    "                  If True, plot the proportions\n",
    "\n",
    "    Usage\n",
    "    -----\n",
    "    plot_confusion_matrix(cm           = cm,                  # confusion matrix created by\n",
    "                                                              # sklearn.metrics.confusion_matrix\n",
    "                          normalize    = True,                # show proportions\n",
    "                          target_names = y_labels_vals,       # list of names of the classes\n",
    "                          title        = best_estimator_name) # title of graph\n",
    "\n",
    "    Citiation\n",
    "    ---------\n",
    "    http://scikit-learn.org/stable/auto_examples/model_selection/plot_confusion_matrix.html\n",
    "\n",
    "    \"\"\"\n",
    "    import matplotlib.pyplot as plt\n",
    "    plt.rcParams.update({'font.size': 16})\n",
    "    import numpy as np\n",
    "    import itertools\n",
    "\n",
    "    accuracy = np.trace(cm) / float(np.sum(cm))\n",
    "    misclass = 1 - accuracy\n",
    "\n",
    "    if cmap is None:\n",
    "        cmap = plt.get_cmap('Blues')\n",
    "\n",
    "    plt.figure(figsize=(8, 6))\n",
    "    plt.imshow(cm, interpolation='nearest', cmap=cmap)\n",
    "    plt.title(title)\n",
    "    plt.colorbar()\n",
    "\n",
    "    if target_names is not None:\n",
    "        tick_marks = np.arange(len(target_names))\n",
    "        plt.xticks(tick_marks, target_names, rotation=45)\n",
    "        plt.yticks(tick_marks, target_names)\n",
    "\n",
    "    if normalize:\n",
    "        cm = cm.astype('float') / cm.sum(axis=1)[:, np.newaxis]\n",
    "\n",
    "\n",
    "    thresh = cm.max() / 1.5 if normalize else cm.max() / 2\n",
    "    for i, j in itertools.product(range(cm.shape[0]), range(cm.shape[1])):\n",
    "        if normalize:\n",
    "            plt.text(j, i, \"{:0.4f}\".format(cm[i, j]),\n",
    "                     horizontalalignment=\"center\",\n",
    "                     color=\"white\" if cm[i, j] > thresh else \"black\")\n",
    "        else:\n",
    "            plt.text(j, i, \"{:,}\".format(cm[i, j]),\n",
    "                     horizontalalignment=\"center\",\n",
    "                     color=\"white\" if cm[i, j] > thresh else \"black\")\n",
    "\n",
    "\n",
    "    plt.tight_layout()\n",
    "    plt.ylabel('True label')\n",
    "    plt.xlabel('Predicted label\\naccuracy={:0.4f}; misclass={:0.4f}'.format(accuracy, misclass))\n",
    "    plt.show()"
   ]
  },
  {
   "cell_type": "code",
   "execution_count": 26,
   "metadata": {},
   "outputs": [
    {
     "data": {
      "image/png": "[encoded data removed]",
      "text/plain": [
       "<Figure size 576x432 with 2 Axes>"
      ]
     },
     "metadata": {
      "needs_background": "light"
     },
     "output_type": "display_data"
    }
   ],
   "source": [
    "[loss, accuracy] = model.evaluate(X_valid, Y_valid)\n",
    "Y_valid_predict = model.predict(X_valid)\n",
    "\n",
    "from sklearn.metrics import confusion_matrix\n",
    "matrix = confusion_matrix(np.argmax(Y_valid_predict, axis=1), np.argmax(Y_valid, axis=1))\n",
    "plot_confusion_matrix(cm = matrix,\n",
    "                      target_names = ['Raise_arm', 'Run', 'Bow', 'Walk'],\n",
    "                      title        = \"Confusion Matrix\")"
   ]
  },
  {
   "cell_type": "code",
   "execution_count": 27,
   "metadata": {},
   "outputs": [
    {
     "name": "stdout",
     "output_type": "stream",
     "text": [
      "float64\n"
     ]
    }
   ],
   "source": [
    "print(X_valid.dtype)"
   ]
  },
  {
   "cell_type": "markdown",
   "metadata": {},
   "source": [
    "# Generate the Universial Perturbation Through Deepfool"
   ]
  },
  {
   "cell_type": "code",
   "execution_count": 22,
   "metadata": {},
   "outputs": [
    {
     "name": "stderr",
     "output_type": "stream",
     "text": [
      "2022-07-26 11:12:22.155037: W tensorflow/c/c_api.cc:326] Operation '{name:'bidirectional/backward_lstm_1/while' id:464 op device:{} def:{{{node bidirectional/backward_lstm_1/while}} = While[T=[DT_INT32, DT_INT32, DT_INT32, DT_VARIANT, DT_FLOAT, ..., DT_VARIANT, DT_VARIANT, DT_VARIANT, DT_VARIANT, DT_VARIANT], _lower_using_switch_merge=true, _num_original_outputs=45, _read_only_resource_inputs=[8, 9, 10], body=bidirectional_backward_lstm_1_while_body_564[], cond=bidirectional_backward_lstm_1_while_cond_563[], output_shapes=[[], [], [], [], [?,200], ..., [], [], [], [], []], parallel_iterations=32](bidirectional/backward_lstm_1/while/loop_counter, bidirectional/backward_lstm_1/while/maximum_iterations, bidirectional/backward_lstm_1/time, bidirectional/backward_lstm_1/TensorArrayV2_1, bidirectional/backward_lstm_1/zeros, bidirectional/backward_lstm_1/zeros_1, bidirectional/backward_lstm_1/strided_slice_1, bidirectional/backward_lstm_1/TensorArrayUnstack/TensorListFromTensor, bidirectional/backward_lstm/lstm_cell_2/kernel, bidirectional/backward_lstm/lstm_cell_2/recurrent_kernel, bidirectional/backward_lstm/lstm_cell_2/bias, bidirectional/backward_lstm_1/while/EmptyTensorList, bidirectional/backward_lstm_1/while/EmptyTensorList_1, bidirectional/backward_lstm_1/while/EmptyTensorList_2, bidirectional/backward_lstm_1/while/EmptyTensorList_3, bidirectional/backward_lstm_1/while/EmptyTensorList_4, bidirectional/backward_lstm_1/while/EmptyTensorList_5, bidirectional/backward_lstm_1/while/EmptyTensorList_6, bidirectional/backward_lstm_1/while/EmptyTensorList_7, bidirectional/backward_lstm_1/while/EmptyTensorList_8, bidirectional/backward_lstm_1/while/EmptyTensorList_9, bidirectional/backward_lstm_1/while/EmptyTensorList_10, bidirectional/backward_lstm_1/while/EmptyTensorList_11, bidirectional/backward_lstm_1/while/EmptyTensorList_12, bidirectional/backward_lstm_1/while/EmptyTensorList_13, bidirectional/backward_lstm_1/while/EmptyTensorList_14, bidirectional/backward_lstm_1/while/EmptyTensorList_15, bidirectional/backward_lstm_1/while/EmptyTensorList_16, bidirectional/backward_lstm_1/while/EmptyTensorList_17, bidirectional/backward_lstm_1/while/EmptyTensorList_18, bidirectional/backward_lstm_1/while/EmptyTensorList_19, bidirectional/backward_lstm_1/while/EmptyTensorList_20, bidirectional/backward_lstm_1/while/EmptyTensorList_21, bidirectional/backward_lstm_1/while/EmptyTensorList_22, bidirectional/backward_lstm_1/while/EmptyTensorList_23, bidirectional/backward_lstm_1/while/EmptyTensorList_24, bidirectional/backward_lstm_1/while/EmptyTensorList_25, bidirectional/backward_lstm_1/while/EmptyTensorList_26, bidirectional/backward_lstm_1/while/EmptyTensorList_27, bidirectional/backward_lstm_1/while/EmptyTensorList_28, bidirectional/backward_lstm_1/while/EmptyTensorList_29, bidirectional/backward_lstm_1/while/EmptyTensorList_30, bidirectional/backward_lstm_1/while/EmptyTensorList_31, bidirectional/backward_lstm_1/while/EmptyTensorList_32, bidirectional/backward_lstm_1/while/EmptyTensorList_33)}}' was changed by setting attribute after it was run by a session. This mutation will have no effect, and will trigger an error in the future. Either don't modify nodes after running them or create a new session.\n"
     ]
    }
   ],
   "source": [
    "from art.classifiers import KerasClassifier\n",
    "from art.attacks import TargetedUniversalPerturbation\n",
    "from art.utils import random_sphere\n",
    "\n",
    "# build targeted UAP\n",
    "classifier = KerasClassifier(model=model)\n",
    "adv_crafter = TargetedUniversalPerturbation(\n",
    "    classifier,\n",
    "    attacker='fgsm',\n",
    "    delta=0.000001,\n",
    "    attacker_params={'targeted':True, 'eps':0.006},\n",
    "    max_iter=10,\n",
    "    eps=5.5,\n",
    "    norm=2)\n",
    "\n",
    "\n",
    "# set target label\n",
    "target = 1\n",
    "y_train_adv_tar = np.zeros(Y_train.shape)\n",
    "for i in range(Y_train.shape[0]):\n",
    "    y_train_adv_tar[i, target] = 1.0\n",
    "\n",
    "# generate noise\n",
    "_ = adv_crafter.generate(X_train, y=y_train_adv_tar)\n",
    "\n"
   ]
  },
  {
   "cell_type": "code",
   "execution_count": 24,
   "metadata": {},
   "outputs": [
    {
     "name": "stdout",
     "output_type": "stream",
     "text": [
      "<class 'int'>\n"
     ]
    }
   ],
   "source": [
    "print(type(adv_crafter.noise))\n",
    "# noise = adv_crafter.noise[0,:]\n",
    "\n",
    "# X_train_adv = X_train + noise\n",
    "# X_valid_adv = X_valid + noise"
   ]
  },
  {
   "cell_type": "code",
   "execution_count": null,
   "metadata": {},
   "outputs": [
    {
     "name": "stdout",
     "output_type": "stream",
     "text": [
      "5/5 [==============================] - 0s 89ms/step - loss: 2.1001 - accuracy: 0.2733\n"
     ]
    },
    {
     "data": {
      "image/png": "[encoded data removed]",
      "text/plain": [
       "<Figure size 576x432 with 2 Axes>"
      ]
     },
     "metadata": {
      "needs_background": "light"
     },
     "output_type": "display_data"
    }
   ],
   "source": [
    "[loss, accuracy] = model.evaluate(X_dirty, Y_dirty)\n",
    "\n",
    "Y_dirty_predict = model.predict(X_dirty)\n",
    "\n",
    "from sklearn.metrics import confusion_matrix\n",
    "matrix = confusion_matrix(np.argmax(Y_dirty, axis=1), np.argmax(Y_dirty_predict, axis=1))\n",
    "\n",
    "plot_confusion_matrix(cm = matrix,\n",
    "                      target_names = ['Raise_arm', 'Run', 'Bow', 'Walk'],\n",
    "                      title        = \"Confusion Matrix\")"
   ]
  },
  {
   "cell_type": "code",
   "execution_count": null,
   "metadata": {},
   "outputs": [
    {
     "name": "stdout",
     "output_type": "stream",
     "text": [
      "./usrp_dataset2/training/walk/1.mat\n",
      "./usrp_dataset2/training/bow/1.mat\n",
      "./usrp_dataset2/training/run/1.mat\n",
      "./usrp_dataset2/training/raise_arm/1.mat\n",
      "0 51\n",
      "1 74\n",
      "2 70\n",
      "3 46\n",
      "8/8 [==============================] - 1s 102ms/step - loss: 0.2183 - accuracy: 0.9876\n"
     ]
    },
    {
     "ename": "",
     "evalue": "",
     "output_type": "error",
     "traceback": [
      "\u001b[1;31mThe Kernel crashed while executing code in the the current cell or a previous cell. Please review the code in the cell(s) to identify a possible cause of the failure. Click <a href='https://aka.ms/vscodeJupyterKernelCrash'>here</a> for more info. View Jupyter <a href='command:jupyter.viewOutput'>log</a> for further details."
     ]
    }
   ],
   "source": [
    "X_train, Y_train, num_classes = generate_dataset('./usrp_dataset2/training/')\n",
    "\n",
    "norm_X = (X_train- mean)/std\n",
    "\n",
    "[loss, accuracy] = model.evaluate(norm_X, Y_train)"
   ]
  },
  {
   "cell_type": "code",
   "execution_count": null,
   "metadata": {},
   "outputs": [],
   "source": [
    "import matplotlib.pyplot as plt\n",
    "plt.plot(history.history['accuracy'])\n",
    "plt.plot(history.history['val_accuracy'])\n",
    "plt.title('DNN model accuracy')\n",
    "plt.ylabel('accuracy')\n",
    "plt.xlabel('epoch')\n",
    "plt.legend(['train', 'test'], loc='upper left')\n",
    "plt.show()"
   ]
  },
  {
   "cell_type": "code",
   "execution_count": null,
   "metadata": {},
   "outputs": [],
   "source": [
    "dirty_X, dirty_Y, num_classes = generate_dataset('./our_dataset/data/dirty')\n",
    "print(len(dirty_Y))\n",
    "\n",
    "model.evaluate(dirty_X, dirty_Y);"
   ]
  },
  {
   "cell_type": "code",
   "execution_count": null,
   "metadata": {},
   "outputs": [],
   "source": [
    "model.predict(dirty_X)\n",
    "x = model.predict(dirty_X)\n",
    "print(np.argmax(x, axis=1))\n",
    "print(np.argmax(dirty_Y, axis=1))"
   ]
  },
  {
   "cell_type": "markdown",
   "metadata": {},
   "source": [
    "## Create the adversarial sample\n",
    "\n",
    "### Implementing fast gradient sign method\n",
    "The first step is to create perturbations which will be used to distort the original CSI resulting in an adversarial image. As mentioned, for this task, the gradients are taken with respect to the input."
   ]
  },
  {
   "cell_type": "code",
   "execution_count": null,
   "metadata": {},
   "outputs": [],
   "source": [
    "import tensorflow as tf\n",
    "loss_object = tf.keras.losses.CategoricalCrossentropy()\n",
    "\n",
    "def create_adversarial_pattern(input_images, input_labels):\n",
    "\n",
    "  input_image = tf.convert_to_tensor(input_images, dtype=tf.float32)\n",
    "  input_label = tf.convert_to_tensor(input_labels, dtype=tf.float32)\n",
    "\n",
    "  with tf.GradientTape() as tape:\n",
    "    tape.watch(input_image)\n",
    "    prediction = model(input_image)\n",
    "    loss = loss_object(input_label, prediction)\n",
    "\n",
    "  # Get the gradients of the loss w.r.t to the input image.\n",
    "  gradient = tape.gradient(loss, input_image)\n",
    "  # Get the sign of the gradients to create the perturbation\n",
    "  signed_grad = tf.sign(gradient)\n",
    "\n",
    "  fgm_grad= gradient / tf.norm(gradient, ord=2)\n",
    "\n",
    "  return signed_grad, fgm_grad"
   ]
  },
  {
   "cell_type": "markdown",
   "metadata": {},
   "source": [
    "# Get the original CSI."
   ]
  },
  {
   "cell_type": "code",
   "execution_count": null,
   "metadata": {},
   "outputs": [],
   "source": [
    "import matplotlib.pyplot as plt\n",
    "original_csis = X_valid\n",
    "original_targets = Y_valid"
   ]
  },
  {
   "cell_type": "code",
   "execution_count": null,
   "metadata": {},
   "outputs": [],
   "source": [
    "perturbations1, perturbations2 = create_adversarial_pattern(original_csis, original_targets)"
   ]
  },
  {
   "cell_type": "code",
   "execution_count": null,
   "metadata": {},
   "outputs": [],
   "source": [
    "def accuracy(x_valid, y_valid):\n",
    "    y_pred = model.predict(x_valid)\n",
    "    y_predict = np.argmax(y_pred, axis=1)\n",
    "    y_valid_one = np.argmax(y_valid, axis=1)\n",
    "    accuracy = round(sum([y_ == y for y_, y in zip(y_predict, y_valid_one)])/len(y_valid_one) * 100,2)\n",
    "    print(\"accuracy: {}%\".format(accuracy))\n",
    "    return accuracy"
   ]
  },
  {
   "cell_type": "code",
   "execution_count": null,
   "metadata": {},
   "outputs": [],
   "source": [
    "epss = [];\n",
    "adv_accuracys = [];\n",
    "clean_accuracys = [];\n",
    "for eps in range(0, 11):\n",
    "    adv_x = original_csis\n",
    "    adv_x = adv_x + eps * perturbations1\n",
    "    # compute accuracy\n",
    "    acc = accuracy(adv_x, original_targets)\n",
    "    epss.append(eps/10)\n",
    "    adv_accuracys.append(acc)\n",
    "    clean_accuracys.append(98.46)\n",
    "    print(\"eps: {} ---> adv_acc:{}%\".format(eps, acc))"
   ]
  },
  {
   "cell_type": "code",
   "execution_count": null,
   "metadata": {},
   "outputs": [],
   "source": [
    "clean1 = plt.plot(epss, clean_accuracys, marker = 'v', linestyle = 'solid', label='Clean')\n",
    "adv1 = plt.plot(epss, adv_accuracys, marker = 'o', linestyle = 'solid', label='FGM')\n",
    "plt.xlabel(\"Epsilon\")\n",
    "plt.ylabel(\"Accuracy(%)\")\n",
    "plt.show()"
   ]
  }
 ],
 "metadata": {
  "kernelspec": {
   "display_name": "Python 3.8.13 ('UAP')",
   "language": "python",
   "name": "python3"
  },
  "language_info": {
   "codemirror_mode": {
    "name": "ipython",
    "version": 3
   },
   "file_extension": ".py",
   "mimetype": "text/x-python",
   "name": "python",
   "nbconvert_exporter": "python",
   "pygments_lexer": "ipython3",
   "version": "3.8.13"
  },
  "orig_nbformat": 4,
  "vscode": {
   "interpreter": {
    "hash": "7560b00439c9a18b07946e07b04233d01c8b203c21d1b1ada294496408168701"
   }
  }
 },
 "nbformat": 4,
 "nbformat_minor": 2
}
