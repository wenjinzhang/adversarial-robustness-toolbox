{
 "cells": [
  {
   "cell_type": "markdown",
   "id": "14fe1a64",
   "metadata": {},
   "source": [
    "# Feature Adversaries Attack in TensorFlow v2\n",
    "\n",
    "Before diving into the attack, let's first prepare a classification model. We utilize a script from the `examples` folders."
   ]
  },
  {
   "cell_type": "code",
   "execution_count": 1,
   "id": "33edf2bc",
   "metadata": {},
   "outputs": [
    {
     "name": "stderr",
     "output_type": "stream",
     "text": [
      "/Users/wenjinzhang/opt/anaconda3/envs/UAP/lib/python3.8/site-packages/tqdm/auto.py:22: TqdmWarning: IProgress not found. Please update jupyter and ipywidgets. See https://ipywidgets.readthedocs.io/en/stable/user_install.html\n",
      "  from .autonotebook import tqdm as notebook_tqdm\n",
      "/Users/wenjinzhang/opt/anaconda3/envs/UAP/lib/python3.8/site-packages/art/estimators/certification/__init__.py:13: UserWarning: PyTorch not found. Not importing DeepZ functionality\n",
      "  warnings.warn(\"PyTorch not found. Not importing DeepZ functionality\")\n"
     ]
    }
   ],
   "source": [
    "import tensorflow as tf\n",
    "\n",
    "tf.compat.v1.disable_eager_execution()\n",
    "from tensorflow.keras.models import Sequential\n",
    "from tensorflow.keras.layers import Dense, Flatten, Conv2D, MaxPooling2D\n",
    "from tensorflow.keras.losses import categorical_crossentropy\n",
    "from tensorflow.keras.optimizers import Adam\n",
    "import numpy as np\n",
    "\n",
    "from art.attacks.evasion import FastGradientMethod\n",
    "from art.estimators.classification import KerasClassifier\n",
    "from art.utils import load_mnist\n",
    "\n",
    "# Step 1: Load the MNIST dataset\n",
    "(x_train, y_train), (x_test, y_test), min_pixel_value, max_pixel_value = load_mnist()\n",
    "\n",
    "# Step 2: Create the model\n",
    "model = Sequential()\n",
    "model.add(Conv2D(filters=4, kernel_size=(5, 5), strides=1, activation=\"relu\", input_shape=(28, 28, 1)))\n",
    "model.add(MaxPooling2D(pool_size=(2, 2)))\n",
    "model.add(Conv2D(filters=10, kernel_size=(5, 5), strides=1, activation=\"relu\", input_shape=(23, 23, 4)))\n",
    "model.add(MaxPooling2D(pool_size=(2, 2)))\n",
    "model.add(Flatten())\n",
    "model.add(Dense(100, activation=\"relu\"))\n",
    "model.add(Dense(10, activation=\"softmax\"))\n",
    "model.compile(loss=categorical_crossentropy, optimizer=Adam(learning_rate=0.01), metrics=[\"accuracy\"])"
   ]
  },
  {
   "cell_type": "code",
   "execution_count": 2,
   "id": "9fc3924c",
   "metadata": {},
   "outputs": [
    {
     "name": "stdout",
     "output_type": "stream",
     "text": [
      "Train on 60000 samples\n",
      "Epoch 1/3\n"
     ]
    },
    {
     "name": "stderr",
     "output_type": "stream",
     "text": [
      "2022-07-28 13:06:40.844934: I tensorflow/core/platform/cpu_feature_guard.cc:193] This TensorFlow binary is optimized with oneAPI Deep Neural Network Library (oneDNN) to use the following CPU instructions in performance-critical operations:  AVX2 FMA\n",
      "To enable them in other operations, rebuild TensorFlow with the appropriate compiler flags.\n",
      "2022-07-28 13:06:40.879874: I tensorflow/compiler/mlir/mlir_graph_optimization_pass.cc:354] MLIR V1 optimization pass is not enabled\n"
     ]
    },
    {
     "name": "stdout",
     "output_type": "stream",
     "text": [
      "60000/60000 [==============================] - 9s 156us/sample - loss: 0.1663 - accuracy: 0.9498\n",
      "Epoch 2/3\n",
      "60000/60000 [==============================] - 9s 147us/sample - loss: 0.0839 - accuracy: 0.9746\n",
      "Epoch 3/3\n",
      "60000/60000 [==============================] - 9s 144us/sample - loss: 0.0765 - accuracy: 0.9775\n"
     ]
    },
    {
     "name": "stderr",
     "output_type": "stream",
     "text": [
      "/Users/wenjinzhang/opt/anaconda3/envs/UAP/lib/python3.8/site-packages/keras/engine/training_v1.py:2067: UserWarning: `Model.state_updates` will be removed in a future version. This property should not be used in TensorFlow 2.0, as `updates` are applied automatically.\n",
      "  updates=self.state_updates,\n"
     ]
    },
    {
     "name": "stdout",
     "output_type": "stream",
     "text": [
      "Accuracy on benign test examples: 97.72%\n"
     ]
    }
   ],
   "source": [
    "# Step 3: Create the ART classifier\n",
    "classifier = KerasClassifier(model=model, clip_values=(min_pixel_value, max_pixel_value), use_logits=False)\n",
    "\n",
    "# Step 4: Train the ART classifier\n",
    "classifier.fit(x_train, y_train, batch_size=64, nb_epochs=3)\n",
    "\n",
    "# Step 5: Evaluate the ART classifier on benign test examples\n",
    "predictions = classifier.predict(x_test)\n",
    "accuracy = np.sum(np.argmax(predictions, axis=1) == np.argmax(y_test, axis=1)) / len(y_test)\n",
    "print(\"Accuracy on benign test examples: {}%\".format(accuracy * 100))"
   ]
  },
  {
   "cell_type": "code",
   "execution_count": 24,
   "id": "619ac837",
   "metadata": {},
   "outputs": [
    {
     "name": "stdout",
     "output_type": "stream",
     "text": [
      "Accuracy on adversarial test examples: 73.38%\n"
     ]
    }
   ],
   "source": [
    "from art.attacks.evasion import UniversalPerturbation\n",
    "\n",
    "adv_crafter = UniversalPerturbation(\n",
    "    classifier,\n",
    "    attacker='fgsm',\n",
    "    delta=0.2,\n",
    "    attacker_params={'targeted':True, 'eps':0.6},\n",
    "    max_iter=10,\n",
    "    eps=5.5,\n",
    "    norm=2)\n",
    "\n",
    "x_adv = adv_crafter.generate(x=x_test)\n",
    "\n",
    "\n",
    "\n",
    "attack = FastGradientMethod(estimator=classifier, eps=0.2)\n",
    "x_test_adv = attack.generate(x=x_test)\n",
    "\n",
    "\n",
    "# Step 7: Evaluate the ART classifier on adversarial test examples\n",
    "predictions = classifier.predict(x_test_adv)\n",
    "accuracy = np.sum(np.argmax(predictions, axis=1) == np.argmax(y_test, axis=1)) / len(y_test)\n",
    "print(\"Accuracy on adversarial test examples: {}%\".format(accuracy * 100))"
   ]
  },
  {
   "cell_type": "code",
   "execution_count": 25,
   "id": "3945bd56",
   "metadata": {},
   "outputs": [
    {
     "data": {
      "image/png": "[encoded data removed]",
      "text/plain": [
       "<Figure size 640x640 with 9 Axes>"
      ]
     },
     "metadata": {
      "needs_background": "light"
     },
     "output_type": "display_data"
    }
   ],
   "source": [
    "import matplotlib.pyplot as plt\n",
    "\n",
    "plt.figure(figsize=(8, 8), dpi=80)\n",
    "\n",
    "for i in range(1, 10):\n",
    "    plt.subplot(3, 3, i)\n",
    "    plt.imshow(x_test_adv[i])\n",
    "    plt.title(np.argmax(predictions[i]))"
   ]
  },
  {
   "cell_type": "code",
   "execution_count": 11,
   "id": "17eaccde",
   "metadata": {},
   "outputs": [],
   "source": [
    "from art.attacks.evasion import TargetedUniversalPerturbation\n",
    "adv_crafter = TargetedUniversalPerturbation(\n",
    "    classifier,\n",
    "    attacker='fgsm',\n",
    "    delta=0.2,\n",
    "    attacker_params={'targeted':True, 'eps':0.6},\n",
    "    max_iter=10,\n",
    "    eps=5.5,\n",
    "    norm=2)"
   ]
  },
  {
   "cell_type": "code",
   "execution_count": 12,
   "id": "904575a1",
   "metadata": {},
   "outputs": [],
   "source": [
    "# selecting 1000 images for each class in 10 classes \n",
    "x_part_train = x_train[:100*10]\n",
    "y_part_train = y_train[:100*10]\n",
    "\n",
    "# set target label\n",
    "target = 1\n",
    "y_train_adv_tar = np.zeros(y_part_train.shape)\n",
    "for i in range(y_part_train.shape[0]):\n",
    "    y_train_adv_tar[i, target] = 1.0"
   ]
  },
  {
   "cell_type": "code",
   "execution_count": null,
   "id": "956b4801",
   "metadata": {},
   "outputs": [],
   "source": [
    "x_adv = adv_crafter.generate(x_part_train, y=y_train_adv_tar)"
   ]
  },
  {
   "cell_type": "code",
   "execution_count": 10,
   "id": "086d41d6",
   "metadata": {},
   "outputs": [
    {
     "name": "stdout",
     "output_type": "stream",
     "text": [
      "targeted_success_rate_train: 9.7 %\n",
      "targeted_success_rate_test: 9.8 %\n"
     ]
    }
   ],
   "source": [
    "noise = adv_crafter.noise[0,:]\n",
    "x_train_adv = x_train + noise\n",
    "x_test_adv = x_test + noise\n",
    "\n",
    "preds_train_adv = np.argmax(classifier.predict(x_train_adv), axis=1)\n",
    "preds_test_adv = np.argmax(classifier.predict(x_test_adv), axis=1) \n",
    "targeted_success_rate_train = np.sum(preds_train_adv == target) / len(x_train)\n",
    "targeted_success_rate_test = np.sum(preds_test_adv == target) / len(x_test) \n",
    "print('targeted_success_rate_train: {:.1f} %'.format(targeted_success_rate_train*100))\n",
    "print('targeted_success_rate_test: {:.1f} %'.format(targeted_success_rate_test*100))"
   ]
  }
 ],
 "metadata": {
  "kernelspec": {
   "display_name": "Python 3.8.13 ('UAP')",
   "language": "python",
   "name": "python3"
  },
  "language_info": {
   "codemirror_mode": {
    "name": "ipython",
    "version": 3
   },
   "file_extension": ".py",
   "mimetype": "text/x-python",
   "name": "python",
   "nbconvert_exporter": "python",
   "pygments_lexer": "ipython3",
   "version": "3.8.13"
  },
  "vscode": {
   "interpreter": {
    "hash": "7560b00439c9a18b07946e07b04233d01c8b203c21d1b1ada294496408168701"
   }
  }
 },
 "nbformat": 4,
 "nbformat_minor": 5
}
